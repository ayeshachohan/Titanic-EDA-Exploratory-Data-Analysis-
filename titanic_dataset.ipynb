{
  "nbformat": 4,
  "nbformat_minor": 0,
  "metadata": {
    "colab": {
      "provenance": []
    },
    "kernelspec": {
      "name": "python3",
      "display_name": "Python 3"
    },
    "language_info": {
      "name": "python"
    }
  },
  "cells": [
    {
      "cell_type": "markdown",
      "source": [
        "## **1.Pre-Processing**"
      ],
      "metadata": {
        "id": "JONkXZ_-LVln"
      }
    },
    {
      "cell_type": "code",
      "source": [
        "#UPLOADING DATA-SET\n",
        "import pandas as pd\n",
        "\n",
        "data = pd.read_csv('/content/titanic_data.csv')\n"
      ],
      "metadata": {
        "id": "DmE28odTLkgm"
      },
      "execution_count": 162,
      "outputs": []
    },
    {
      "cell_type": "code",
      "source": [
        "#NUMBER OF ATTRIBUTES\n",
        "num_attributes = data.shape[1]\n",
        "\n",
        "print(\"Number of attributes:\", num_attributes)\n"
      ],
      "metadata": {
        "colab": {
          "base_uri": "https://localhost:8080/"
        },
        "id": "U8bbd7yBMGiy",
        "outputId": "a21fd744-3e0f-4b87-ead6-e99a42f3a277"
      },
      "execution_count": 163,
      "outputs": [
        {
          "output_type": "stream",
          "name": "stdout",
          "text": [
            "Number of attributes: 12\n"
          ]
        }
      ]
    },
    {
      "cell_type": "code",
      "source": [
        "#TOTAL NO OF ROWS\n",
        "num_rows = data.shape[0]\n",
        "\n",
        "print(\"Number of rows:\", num_rows)"
      ],
      "metadata": {
        "colab": {
          "base_uri": "https://localhost:8080/"
        },
        "id": "orR2zP5jMbsR",
        "outputId": "1527a94d-d730-421e-e2ae-d3dd1c89bf58"
      },
      "execution_count": 164,
      "outputs": [
        {
          "output_type": "stream",
          "name": "stdout",
          "text": [
            "Number of rows: 891\n"
          ]
        }
      ]
    },
    {
      "cell_type": "code",
      "source": [
        "#NAME OF ALL ATTRIBUTES\n",
        "attribute_names = data.columns\n",
        "\n",
        "print(\"Attribute names:\")\n",
        "for attribute in attribute_names:\n",
        "    print(attribute)"
      ],
      "metadata": {
        "colab": {
          "base_uri": "https://localhost:8080/"
        },
        "id": "ERXrNfiBMscV",
        "outputId": "235a1281-0b58-4b9e-a59b-744cc14cddbf"
      },
      "execution_count": 165,
      "outputs": [
        {
          "output_type": "stream",
          "name": "stdout",
          "text": [
            "Attribute names:\n",
            "PassengerId\n",
            "Survived\n",
            "Pclass\n",
            "Name\n",
            "Sex\n",
            "Age\n",
            "SibSp\n",
            "Parch\n",
            "Ticket\n",
            "Fare\n",
            "Cabin\n",
            "Embarked\n"
          ]
        }
      ]
    },
    {
      "cell_type": "markdown",
      "source": [
        "# 1.1-Data Cleaning"
      ],
      "metadata": {
        "id": "4b3KUhTWOCgl"
      }
    },
    {
      "cell_type": "code",
      "source": [
        "#SHAPE OF DATA-SET\n",
        "dataset_shape = data.shape\n",
        "\n",
        "print(\"Dataset shape:\", dataset_shape)\n"
      ],
      "metadata": {
        "colab": {
          "base_uri": "https://localhost:8080/"
        },
        "id": "K8AHqWmDM0y_",
        "outputId": "d7fc24bc-7f5c-4b60-e900-bc50ba6e9a74"
      },
      "execution_count": 166,
      "outputs": [
        {
          "output_type": "stream",
          "name": "stdout",
          "text": [
            "Dataset shape: (891, 12)\n"
          ]
        }
      ]
    },
    {
      "cell_type": "code",
      "source": [
        "#REMOVING MISSING VALUES\n",
        "original_shape = data.shape\n",
        "\n",
        "data1 = data.dropna()\n",
        "removed_values = data[~data.index.isin(data1.index)]\n",
        "\n",
        "print(\"Missing values removed:\")\n",
        "print(removed_values)"
      ],
      "metadata": {
        "colab": {
          "base_uri": "https://localhost:8080/"
        },
        "id": "L8wP5RA4NpgA",
        "outputId": "fbb4d069-77cd-4fd7-bb12-e88be6db8cc5"
      },
      "execution_count": 167,
      "outputs": [
        {
          "output_type": "stream",
          "name": "stdout",
          "text": [
            "Missing values removed:\n",
            "     PassengerId  Survived  Pclass                                      Name  \\\n",
            "0              1         0       3                   Braund, Mr. Owen Harris   \n",
            "2              3         1       3                    Heikkinen, Miss. Laina   \n",
            "4              5         0       3                  Allen, Mr. William Henry   \n",
            "5              6         0       3                          Moran, Mr. James   \n",
            "7              8         0       3            Palsson, Master. Gosta Leonard   \n",
            "..           ...       ...     ...                                       ...   \n",
            "884          885         0       3                    Sutehall, Mr. Henry Jr   \n",
            "885          886         0       3      Rice, Mrs. William (Margaret Norton)   \n",
            "886          887         0       2                     Montvila, Rev. Juozas   \n",
            "888          889         0       3  Johnston, Miss. Catherine Helen \"Carrie\"   \n",
            "890          891         0       3                       Dooley, Mr. Patrick   \n",
            "\n",
            "        Sex   Age  SibSp  Parch            Ticket     Fare Cabin Embarked  \n",
            "0      male  22.0      1      0         A/5 21171   7.2500   NaN        S  \n",
            "2    female  26.0      0      0  STON/O2. 3101282   7.9250   NaN        S  \n",
            "4      male  35.0      0      0            373450   8.0500   NaN        S  \n",
            "5      male   NaN      0      0            330877   8.4583   NaN        Q  \n",
            "7      male   2.0      3      1            349909  21.0750   NaN        S  \n",
            "..      ...   ...    ...    ...               ...      ...   ...      ...  \n",
            "884    male  25.0      0      0   SOTON/OQ 392076   7.0500   NaN        S  \n",
            "885  female  39.0      0      5            382652  29.1250   NaN        Q  \n",
            "886    male  27.0      0      0            211536  13.0000   NaN        S  \n",
            "888  female   NaN      1      2        W./C. 6607  23.4500   NaN        S  \n",
            "890    male  32.0      0      0            370376   7.7500   NaN        Q  \n",
            "\n",
            "[708 rows x 12 columns]\n"
          ]
        }
      ]
    },
    {
      "cell_type": "code",
      "source": [
        "#REMOVING DUPLICATE ROWS\n",
        "columns_to_check_duplicates = ['Ticket', 'Cabin']\n",
        "data2 = data1.drop_duplicates(subset=columns_to_check_duplicates, keep='first')\n",
        "print(\"Duplicate values removed:\")\n",
        "print(data2)\n"
      ],
      "metadata": {
        "colab": {
          "base_uri": "https://localhost:8080/"
        },
        "id": "5uga0Ha8Phyq",
        "outputId": "f08aa92c-2eef-4ec4-8b92-096c425ce983"
      },
      "execution_count": 168,
      "outputs": [
        {
          "output_type": "stream",
          "name": "stdout",
          "text": [
            "Duplicate values removed:\n",
            "     PassengerId  Survived  Pclass  \\\n",
            "1              2         1       1   \n",
            "3              4         1       1   \n",
            "6              7         0       1   \n",
            "10            11         1       3   \n",
            "11            12         1       1   \n",
            "..           ...       ...     ...   \n",
            "867          868         0       1   \n",
            "872          873         0       1   \n",
            "879          880         1       1   \n",
            "887          888         1       1   \n",
            "889          890         1       1   \n",
            "\n",
            "                                                  Name     Sex   Age  SibSp  \\\n",
            "1    Cumings, Mrs. John Bradley (Florence Briggs Th...  female  38.0      1   \n",
            "3         Futrelle, Mrs. Jacques Heath (Lily May Peel)  female  35.0      1   \n",
            "6                              McCarthy, Mr. Timothy J    male  54.0      0   \n",
            "10                     Sandstrom, Miss. Marguerite Rut  female   4.0      1   \n",
            "11                            Bonnell, Miss. Elizabeth  female  58.0      0   \n",
            "..                                                 ...     ...   ...    ...   \n",
            "867               Roebling, Mr. Washington Augustus II    male  31.0      0   \n",
            "872                           Carlsson, Mr. Frans Olof    male  33.0      0   \n",
            "879      Potter, Mrs. Thomas Jr (Lily Alexenia Wilson)  female  56.0      0   \n",
            "887                       Graham, Miss. Margaret Edith  female  19.0      0   \n",
            "889                              Behr, Mr. Karl Howell    male  26.0      0   \n",
            "\n",
            "     Parch    Ticket     Fare        Cabin Embarked  \n",
            "1        0  PC 17599  71.2833          C85        C  \n",
            "3        0    113803  53.1000         C123        S  \n",
            "6        0     17463  51.8625          E46        S  \n",
            "10       1   PP 9549  16.7000           G6        S  \n",
            "11       0    113783  26.5500         C103        S  \n",
            "..     ...       ...      ...          ...      ...  \n",
            "867      0  PC 17590  50.4958          A24        S  \n",
            "872      0       695   5.0000  B51 B53 B55        S  \n",
            "879      1     11767  83.1583          C50        C  \n",
            "887      0    112053  30.0000          B42        S  \n",
            "889      0    111369  30.0000         C148        C  \n",
            "\n",
            "[144 rows x 12 columns]\n"
          ]
        }
      ]
    },
    {
      "cell_type": "code",
      "source": [
        "#REMOVING IRRELEVANT ATTRIBUTES\n",
        "attributes_to_keep = [col for col in data.columns if col not in ['Name', 'Cabin', 'Ticket','PassengerId']]\n",
        "\n",
        "data3 = data2[attributes_to_keep]\n",
        "print(data3.head())"
      ],
      "metadata": {
        "colab": {
          "base_uri": "https://localhost:8080/"
        },
        "id": "l6KV916UQXlb",
        "outputId": "f26c6e64-ad9a-450a-85a7-273b7655a8f1"
      },
      "execution_count": 192,
      "outputs": [
        {
          "output_type": "stream",
          "name": "stdout",
          "text": [
            "    Survived  Pclass     Sex   Age  SibSp  Parch     Fare Embarked\n",
            "1          1       1  female  38.0      1      0  71.2833        C\n",
            "3          1       1  female  35.0      1      0  53.1000        S\n",
            "6          0       1    male  54.0      0      0  51.8625        S\n",
            "10         1       3  female   4.0      1      1  16.7000        S\n",
            "11         1       1  female  58.0      0      0  26.5500        S\n"
          ]
        }
      ]
    },
    {
      "cell_type": "code",
      "source": [
        "data3.head()"
      ],
      "metadata": {
        "colab": {
          "base_uri": "https://localhost:8080/",
          "height": 206
        },
        "id": "cVVTs0BH_SMw",
        "outputId": "069328a1-fda9-43ff-cba4-45c0ba68daaf"
      },
      "execution_count": 193,
      "outputs": [
        {
          "output_type": "execute_result",
          "data": {
            "text/plain": [
              "    Survived  Pclass     Sex   Age  SibSp  Parch     Fare Embarked\n",
              "1          1       1  female  38.0      1      0  71.2833        C\n",
              "3          1       1  female  35.0      1      0  53.1000        S\n",
              "6          0       1    male  54.0      0      0  51.8625        S\n",
              "10         1       3  female   4.0      1      1  16.7000        S\n",
              "11         1       1  female  58.0      0      0  26.5500        S"
            ],
            "text/html": [
              "\n",
              "  <div id=\"df-79b25337-4d3d-4850-bb7e-3f49087abff7\">\n",
              "    <div class=\"colab-df-container\">\n",
              "      <div>\n",
              "<style scoped>\n",
              "    .dataframe tbody tr th:only-of-type {\n",
              "        vertical-align: middle;\n",
              "    }\n",
              "\n",
              "    .dataframe tbody tr th {\n",
              "        vertical-align: top;\n",
              "    }\n",
              "\n",
              "    .dataframe thead th {\n",
              "        text-align: right;\n",
              "    }\n",
              "</style>\n",
              "<table border=\"1\" class=\"dataframe\">\n",
              "  <thead>\n",
              "    <tr style=\"text-align: right;\">\n",
              "      <th></th>\n",
              "      <th>Survived</th>\n",
              "      <th>Pclass</th>\n",
              "      <th>Sex</th>\n",
              "      <th>Age</th>\n",
              "      <th>SibSp</th>\n",
              "      <th>Parch</th>\n",
              "      <th>Fare</th>\n",
              "      <th>Embarked</th>\n",
              "    </tr>\n",
              "  </thead>\n",
              "  <tbody>\n",
              "    <tr>\n",
              "      <th>1</th>\n",
              "      <td>1</td>\n",
              "      <td>1</td>\n",
              "      <td>female</td>\n",
              "      <td>38.0</td>\n",
              "      <td>1</td>\n",
              "      <td>0</td>\n",
              "      <td>71.2833</td>\n",
              "      <td>C</td>\n",
              "    </tr>\n",
              "    <tr>\n",
              "      <th>3</th>\n",
              "      <td>1</td>\n",
              "      <td>1</td>\n",
              "      <td>female</td>\n",
              "      <td>35.0</td>\n",
              "      <td>1</td>\n",
              "      <td>0</td>\n",
              "      <td>53.1000</td>\n",
              "      <td>S</td>\n",
              "    </tr>\n",
              "    <tr>\n",
              "      <th>6</th>\n",
              "      <td>0</td>\n",
              "      <td>1</td>\n",
              "      <td>male</td>\n",
              "      <td>54.0</td>\n",
              "      <td>0</td>\n",
              "      <td>0</td>\n",
              "      <td>51.8625</td>\n",
              "      <td>S</td>\n",
              "    </tr>\n",
              "    <tr>\n",
              "      <th>10</th>\n",
              "      <td>1</td>\n",
              "      <td>3</td>\n",
              "      <td>female</td>\n",
              "      <td>4.0</td>\n",
              "      <td>1</td>\n",
              "      <td>1</td>\n",
              "      <td>16.7000</td>\n",
              "      <td>S</td>\n",
              "    </tr>\n",
              "    <tr>\n",
              "      <th>11</th>\n",
              "      <td>1</td>\n",
              "      <td>1</td>\n",
              "      <td>female</td>\n",
              "      <td>58.0</td>\n",
              "      <td>0</td>\n",
              "      <td>0</td>\n",
              "      <td>26.5500</td>\n",
              "      <td>S</td>\n",
              "    </tr>\n",
              "  </tbody>\n",
              "</table>\n",
              "</div>\n",
              "      <button class=\"colab-df-convert\" onclick=\"convertToInteractive('df-79b25337-4d3d-4850-bb7e-3f49087abff7')\"\n",
              "              title=\"Convert this dataframe to an interactive table.\"\n",
              "              style=\"display:none;\">\n",
              "        \n",
              "  <svg xmlns=\"http://www.w3.org/2000/svg\" height=\"24px\"viewBox=\"0 0 24 24\"\n",
              "       width=\"24px\">\n",
              "    <path d=\"M0 0h24v24H0V0z\" fill=\"none\"/>\n",
              "    <path d=\"M18.56 5.44l.94 2.06.94-2.06 2.06-.94-2.06-.94-.94-2.06-.94 2.06-2.06.94zm-11 1L8.5 8.5l.94-2.06 2.06-.94-2.06-.94L8.5 2.5l-.94 2.06-2.06.94zm10 10l.94 2.06.94-2.06 2.06-.94-2.06-.94-.94-2.06-.94 2.06-2.06.94z\"/><path d=\"M17.41 7.96l-1.37-1.37c-.4-.4-.92-.59-1.43-.59-.52 0-1.04.2-1.43.59L10.3 9.45l-7.72 7.72c-.78.78-.78 2.05 0 2.83L4 21.41c.39.39.9.59 1.41.59.51 0 1.02-.2 1.41-.59l7.78-7.78 2.81-2.81c.8-.78.8-2.07 0-2.86zM5.41 20L4 18.59l7.72-7.72 1.47 1.35L5.41 20z\"/>\n",
              "  </svg>\n",
              "      </button>\n",
              "      \n",
              "  <style>\n",
              "    .colab-df-container {\n",
              "      display:flex;\n",
              "      flex-wrap:wrap;\n",
              "      gap: 12px;\n",
              "    }\n",
              "\n",
              "    .colab-df-convert {\n",
              "      background-color: #E8F0FE;\n",
              "      border: none;\n",
              "      border-radius: 50%;\n",
              "      cursor: pointer;\n",
              "      display: none;\n",
              "      fill: #1967D2;\n",
              "      height: 32px;\n",
              "      padding: 0 0 0 0;\n",
              "      width: 32px;\n",
              "    }\n",
              "\n",
              "    .colab-df-convert:hover {\n",
              "      background-color: #E2EBFA;\n",
              "      box-shadow: 0px 1px 2px rgba(60, 64, 67, 0.3), 0px 1px 3px 1px rgba(60, 64, 67, 0.15);\n",
              "      fill: #174EA6;\n",
              "    }\n",
              "\n",
              "    [theme=dark] .colab-df-convert {\n",
              "      background-color: #3B4455;\n",
              "      fill: #D2E3FC;\n",
              "    }\n",
              "\n",
              "    [theme=dark] .colab-df-convert:hover {\n",
              "      background-color: #434B5C;\n",
              "      box-shadow: 0px 1px 3px 1px rgba(0, 0, 0, 0.15);\n",
              "      filter: drop-shadow(0px 1px 2px rgba(0, 0, 0, 0.3));\n",
              "      fill: #FFFFFF;\n",
              "    }\n",
              "  </style>\n",
              "\n",
              "      <script>\n",
              "        const buttonEl =\n",
              "          document.querySelector('#df-79b25337-4d3d-4850-bb7e-3f49087abff7 button.colab-df-convert');\n",
              "        buttonEl.style.display =\n",
              "          google.colab.kernel.accessAllowed ? 'block' : 'none';\n",
              "\n",
              "        async function convertToInteractive(key) {\n",
              "          const element = document.querySelector('#df-79b25337-4d3d-4850-bb7e-3f49087abff7');\n",
              "          const dataTable =\n",
              "            await google.colab.kernel.invokeFunction('convertToInteractive',\n",
              "                                                     [key], {});\n",
              "          if (!dataTable) return;\n",
              "\n",
              "          const docLinkHtml = 'Like what you see? Visit the ' +\n",
              "            '<a target=\"_blank\" href=https://colab.research.google.com/notebooks/data_table.ipynb>data table notebook</a>'\n",
              "            + ' to learn more about interactive tables.';\n",
              "          element.innerHTML = '';\n",
              "          dataTable['output_type'] = 'display_data';\n",
              "          await google.colab.output.renderOutput(dataTable, element);\n",
              "          const docLink = document.createElement('div');\n",
              "          docLink.innerHTML = docLinkHtml;\n",
              "          element.appendChild(docLink);\n",
              "        }\n",
              "      </script>\n",
              "    </div>\n",
              "  </div>\n",
              "  "
            ]
          },
          "metadata": {},
          "execution_count": 193
        }
      ]
    },
    {
      "cell_type": "code",
      "source": [
        "import pandas as pd\n",
        "from sklearn.preprocessing import MinMaxScaler\n",
        "\n",
        "fare_values = data3['Fare'].values.reshape(-1, 1)  # Reshape the fare column into a 2D array\n",
        "\n",
        "# Create a MinMaxScaler instance\n",
        "scaler = MinMaxScaler()\n",
        "\n",
        "# Fit the scaler to the fare values and transform the data\n",
        "Fare1 = scaler.fit_transform(fare_values)\n",
        "\n",
        "# Assign the normalized fare values back to the DataFrame\n",
        "data3['Fare'] = Fare1\n",
        "print(Fare1)\n",
        "data3.head()"
      ],
      "metadata": {
        "colab": {
          "base_uri": "https://localhost:8080/",
          "height": 1000
        },
        "id": "w6UwZplPhyio",
        "outputId": "5732f68a-17a2-4c91-8c79-f69efc5dc661"
      },
      "execution_count": 194,
      "outputs": [
        {
          "output_type": "stream",
          "name": "stdout",
          "text": [
            "[[0.13913574]\n",
            " [0.1036443 ]\n",
            " [0.10122886]\n",
            " [0.03259623]\n",
            " [0.05182215]\n",
            " [0.02537431]\n",
            " [0.06929139]\n",
            " [0.51334181]\n",
            " [0.14976542]\n",
            " [0.12097534]\n",
            " [0.16293235]\n",
            " [0.02049464]\n",
            " [0.01493181]\n",
            " [0.11940565]\n",
            " [0.06764049]\n",
            " [0.12366717]\n",
            " [0.15085515]\n",
            " [0.10149724]\n",
            " [0.48312843]\n",
            " [0.02537431]\n",
            " [0.05130158]\n",
            " [0.1545881 ]\n",
            " [0.05074862]\n",
            " [0.12999454]\n",
            " [0.06538765]\n",
            " [0.05991421]\n",
            " [0.05604307]\n",
            " [0.07612293]\n",
            " [0.0541074 ]\n",
            " [0.28598956]\n",
            " [0.02042144]\n",
            " [0.06050797]\n",
            " [0.22109808]\n",
            " [0.14891148]\n",
            " [0.1756683 ]\n",
            " [0.1756683 ]\n",
            " [0.10257897]\n",
            " [0.05182215]\n",
            " [0.16883676]\n",
            " [0.15546645]\n",
            " [0.        ]\n",
            " [0.29953885]\n",
            " [0.26473857]\n",
            " [0.05797054]\n",
            " [0.15216447]\n",
            " [0.17777476]\n",
            " [0.02513033]\n",
            " [0.2958059 ]\n",
            " [0.21255864]\n",
            " [0.1111184 ]\n",
            " [0.16231419]\n",
            " [0.51212189]\n",
            " [0.32179837]\n",
            " [0.26252652]\n",
            " [0.26473857]\n",
            " [0.02537431]\n",
            " [0.11316786]\n",
            " [0.0556283 ]\n",
            " [0.29953885]\n",
            " [0.26252652]\n",
            " [0.06929139]\n",
            " [0.02537431]\n",
            " [0.10735285]\n",
            " [0.14687822]\n",
            " [0.13526459]\n",
            " [0.10821499]\n",
            " [0.41282051]\n",
            " [0.2342244 ]\n",
            " [0.01571255]\n",
            " [0.05182215]\n",
            " [0.10910953]\n",
            " [0.15977676]\n",
            " [0.05953204]\n",
            " [0.05416439]\n",
            " [0.17391982]\n",
            " [0.05182215]\n",
            " [0.05182215]\n",
            " [0.075147  ]\n",
            " [0.02691961]\n",
            " [0.05797054]\n",
            " [0.05953204]\n",
            " [0.15276642]\n",
            " [0.16883676]\n",
            " [0.05130978]\n",
            " [0.06640418]\n",
            " [0.02049464]\n",
            " [0.18249985]\n",
            " [0.05182215]\n",
            " [0.09661757]\n",
            " [0.13858277]\n",
            " [0.20772777]\n",
            " [0.21642979]\n",
            " [0.07729405]\n",
            " [0.10048071]\n",
            " [0.05150497]\n",
            " [0.21642979]\n",
            " [0.07831878]\n",
            " [0.15546645]\n",
            " [0.1545881 ]\n",
            " [0.1111184 ]\n",
            " [0.10257897]\n",
            " [0.063086  ]\n",
            " [0.15216447]\n",
            " [0.0585561 ]\n",
            " [0.05953204]\n",
            " [0.06929139]\n",
            " [0.22109808]\n",
            " [0.04994347]\n",
            " [0.10149724]\n",
            " [1.        ]\n",
            " [0.14976542]\n",
            " [0.41250333]\n",
            " [0.11125659]\n",
            " [0.01493181]\n",
            " [0.44409922]\n",
            " [0.05130978]\n",
            " [0.05130978]\n",
            " [0.09662576]\n",
            " [0.10149724]\n",
            " [0.01493181]\n",
            " [0.44409922]\n",
            " [0.02049464]\n",
            " [0.1036443 ]\n",
            " [1.        ]\n",
            " [0.15390495]\n",
            " [0.1036443 ]\n",
            " [0.02434958]\n",
            " [0.15216447]\n",
            " [0.02049464]\n",
            " [0.41250333]\n",
            " [0.0585561 ]\n",
            " [0.1545881 ]\n",
            " [0.05061043]\n",
            " [0.        ]\n",
            " [0.18249985]\n",
            " [0.16231419]\n",
            " [0.07690368]\n",
            " [0.05182215]\n",
            " [0.05061043]\n",
            " [0.09856124]\n",
            " [0.00975935]\n",
            " [0.16231419]\n",
            " [0.0585561 ]\n",
            " [0.0585561 ]]\n"
          ]
        },
        {
          "output_type": "stream",
          "name": "stderr",
          "text": [
            "<ipython-input-194-08f14df55164>:13: SettingWithCopyWarning: \n",
            "A value is trying to be set on a copy of a slice from a DataFrame.\n",
            "Try using .loc[row_indexer,col_indexer] = value instead\n",
            "\n",
            "See the caveats in the documentation: https://pandas.pydata.org/pandas-docs/stable/user_guide/indexing.html#returning-a-view-versus-a-copy\n",
            "  data3['Fare'] = Fare1\n"
          ]
        },
        {
          "output_type": "execute_result",
          "data": {
            "text/plain": [
              "    Survived  Pclass     Sex   Age  SibSp  Parch      Fare Embarked\n",
              "1          1       1  female  38.0      1      0  0.139136        C\n",
              "3          1       1  female  35.0      1      0  0.103644        S\n",
              "6          0       1    male  54.0      0      0  0.101229        S\n",
              "10         1       3  female   4.0      1      1  0.032596        S\n",
              "11         1       1  female  58.0      0      0  0.051822        S"
            ],
            "text/html": [
              "\n",
              "  <div id=\"df-ba70934a-a287-46f5-9303-601f630baebb\">\n",
              "    <div class=\"colab-df-container\">\n",
              "      <div>\n",
              "<style scoped>\n",
              "    .dataframe tbody tr th:only-of-type {\n",
              "        vertical-align: middle;\n",
              "    }\n",
              "\n",
              "    .dataframe tbody tr th {\n",
              "        vertical-align: top;\n",
              "    }\n",
              "\n",
              "    .dataframe thead th {\n",
              "        text-align: right;\n",
              "    }\n",
              "</style>\n",
              "<table border=\"1\" class=\"dataframe\">\n",
              "  <thead>\n",
              "    <tr style=\"text-align: right;\">\n",
              "      <th></th>\n",
              "      <th>Survived</th>\n",
              "      <th>Pclass</th>\n",
              "      <th>Sex</th>\n",
              "      <th>Age</th>\n",
              "      <th>SibSp</th>\n",
              "      <th>Parch</th>\n",
              "      <th>Fare</th>\n",
              "      <th>Embarked</th>\n",
              "    </tr>\n",
              "  </thead>\n",
              "  <tbody>\n",
              "    <tr>\n",
              "      <th>1</th>\n",
              "      <td>1</td>\n",
              "      <td>1</td>\n",
              "      <td>female</td>\n",
              "      <td>38.0</td>\n",
              "      <td>1</td>\n",
              "      <td>0</td>\n",
              "      <td>0.139136</td>\n",
              "      <td>C</td>\n",
              "    </tr>\n",
              "    <tr>\n",
              "      <th>3</th>\n",
              "      <td>1</td>\n",
              "      <td>1</td>\n",
              "      <td>female</td>\n",
              "      <td>35.0</td>\n",
              "      <td>1</td>\n",
              "      <td>0</td>\n",
              "      <td>0.103644</td>\n",
              "      <td>S</td>\n",
              "    </tr>\n",
              "    <tr>\n",
              "      <th>6</th>\n",
              "      <td>0</td>\n",
              "      <td>1</td>\n",
              "      <td>male</td>\n",
              "      <td>54.0</td>\n",
              "      <td>0</td>\n",
              "      <td>0</td>\n",
              "      <td>0.101229</td>\n",
              "      <td>S</td>\n",
              "    </tr>\n",
              "    <tr>\n",
              "      <th>10</th>\n",
              "      <td>1</td>\n",
              "      <td>3</td>\n",
              "      <td>female</td>\n",
              "      <td>4.0</td>\n",
              "      <td>1</td>\n",
              "      <td>1</td>\n",
              "      <td>0.032596</td>\n",
              "      <td>S</td>\n",
              "    </tr>\n",
              "    <tr>\n",
              "      <th>11</th>\n",
              "      <td>1</td>\n",
              "      <td>1</td>\n",
              "      <td>female</td>\n",
              "      <td>58.0</td>\n",
              "      <td>0</td>\n",
              "      <td>0</td>\n",
              "      <td>0.051822</td>\n",
              "      <td>S</td>\n",
              "    </tr>\n",
              "  </tbody>\n",
              "</table>\n",
              "</div>\n",
              "      <button class=\"colab-df-convert\" onclick=\"convertToInteractive('df-ba70934a-a287-46f5-9303-601f630baebb')\"\n",
              "              title=\"Convert this dataframe to an interactive table.\"\n",
              "              style=\"display:none;\">\n",
              "        \n",
              "  <svg xmlns=\"http://www.w3.org/2000/svg\" height=\"24px\"viewBox=\"0 0 24 24\"\n",
              "       width=\"24px\">\n",
              "    <path d=\"M0 0h24v24H0V0z\" fill=\"none\"/>\n",
              "    <path d=\"M18.56 5.44l.94 2.06.94-2.06 2.06-.94-2.06-.94-.94-2.06-.94 2.06-2.06.94zm-11 1L8.5 8.5l.94-2.06 2.06-.94-2.06-.94L8.5 2.5l-.94 2.06-2.06.94zm10 10l.94 2.06.94-2.06 2.06-.94-2.06-.94-.94-2.06-.94 2.06-2.06.94z\"/><path d=\"M17.41 7.96l-1.37-1.37c-.4-.4-.92-.59-1.43-.59-.52 0-1.04.2-1.43.59L10.3 9.45l-7.72 7.72c-.78.78-.78 2.05 0 2.83L4 21.41c.39.39.9.59 1.41.59.51 0 1.02-.2 1.41-.59l7.78-7.78 2.81-2.81c.8-.78.8-2.07 0-2.86zM5.41 20L4 18.59l7.72-7.72 1.47 1.35L5.41 20z\"/>\n",
              "  </svg>\n",
              "      </button>\n",
              "      \n",
              "  <style>\n",
              "    .colab-df-container {\n",
              "      display:flex;\n",
              "      flex-wrap:wrap;\n",
              "      gap: 12px;\n",
              "    }\n",
              "\n",
              "    .colab-df-convert {\n",
              "      background-color: #E8F0FE;\n",
              "      border: none;\n",
              "      border-radius: 50%;\n",
              "      cursor: pointer;\n",
              "      display: none;\n",
              "      fill: #1967D2;\n",
              "      height: 32px;\n",
              "      padding: 0 0 0 0;\n",
              "      width: 32px;\n",
              "    }\n",
              "\n",
              "    .colab-df-convert:hover {\n",
              "      background-color: #E2EBFA;\n",
              "      box-shadow: 0px 1px 2px rgba(60, 64, 67, 0.3), 0px 1px 3px 1px rgba(60, 64, 67, 0.15);\n",
              "      fill: #174EA6;\n",
              "    }\n",
              "\n",
              "    [theme=dark] .colab-df-convert {\n",
              "      background-color: #3B4455;\n",
              "      fill: #D2E3FC;\n",
              "    }\n",
              "\n",
              "    [theme=dark] .colab-df-convert:hover {\n",
              "      background-color: #434B5C;\n",
              "      box-shadow: 0px 1px 3px 1px rgba(0, 0, 0, 0.15);\n",
              "      filter: drop-shadow(0px 1px 2px rgba(0, 0, 0, 0.3));\n",
              "      fill: #FFFFFF;\n",
              "    }\n",
              "  </style>\n",
              "\n",
              "      <script>\n",
              "        const buttonEl =\n",
              "          document.querySelector('#df-ba70934a-a287-46f5-9303-601f630baebb button.colab-df-convert');\n",
              "        buttonEl.style.display =\n",
              "          google.colab.kernel.accessAllowed ? 'block' : 'none';\n",
              "\n",
              "        async function convertToInteractive(key) {\n",
              "          const element = document.querySelector('#df-ba70934a-a287-46f5-9303-601f630baebb');\n",
              "          const dataTable =\n",
              "            await google.colab.kernel.invokeFunction('convertToInteractive',\n",
              "                                                     [key], {});\n",
              "          if (!dataTable) return;\n",
              "\n",
              "          const docLinkHtml = 'Like what you see? Visit the ' +\n",
              "            '<a target=\"_blank\" href=https://colab.research.google.com/notebooks/data_table.ipynb>data table notebook</a>'\n",
              "            + ' to learn more about interactive tables.';\n",
              "          element.innerHTML = '';\n",
              "          dataTable['output_type'] = 'display_data';\n",
              "          await google.colab.output.renderOutput(dataTable, element);\n",
              "          const docLink = document.createElement('div');\n",
              "          docLink.innerHTML = docLinkHtml;\n",
              "          element.appendChild(docLink);\n",
              "        }\n",
              "      </script>\n",
              "    </div>\n",
              "  </div>\n",
              "  "
            ]
          },
          "metadata": {},
          "execution_count": 194
        }
      ]
    },
    {
      "cell_type": "code",
      "source": [
        "from google.colab import files\n",
        "# Convert the DataFrame to a CSV file\n",
        "data3.to_csv('pre-processed.csv', index=False)\n",
        "\n",
        "# Download the CSV file\n",
        "files.download('pre-processed.csv')"
      ],
      "metadata": {
        "colab": {
          "base_uri": "https://localhost:8080/",
          "height": 17
        },
        "id": "oCr84QK-AjKp",
        "outputId": "360b9449-7039-44b0-c1aa-f71dfba32f4b"
      },
      "execution_count": 195,
      "outputs": [
        {
          "output_type": "display_data",
          "data": {
            "text/plain": [
              "<IPython.core.display.Javascript object>"
            ],
            "application/javascript": [
              "\n",
              "    async function download(id, filename, size) {\n",
              "      if (!google.colab.kernel.accessAllowed) {\n",
              "        return;\n",
              "      }\n",
              "      const div = document.createElement('div');\n",
              "      const label = document.createElement('label');\n",
              "      label.textContent = `Downloading \"${filename}\": `;\n",
              "      div.appendChild(label);\n",
              "      const progress = document.createElement('progress');\n",
              "      progress.max = size;\n",
              "      div.appendChild(progress);\n",
              "      document.body.appendChild(div);\n",
              "\n",
              "      const buffers = [];\n",
              "      let downloaded = 0;\n",
              "\n",
              "      const channel = await google.colab.kernel.comms.open(id);\n",
              "      // Send a message to notify the kernel that we're ready.\n",
              "      channel.send({})\n",
              "\n",
              "      for await (const message of channel.messages) {\n",
              "        // Send a message to notify the kernel that we're ready.\n",
              "        channel.send({})\n",
              "        if (message.buffers) {\n",
              "          for (const buffer of message.buffers) {\n",
              "            buffers.push(buffer);\n",
              "            downloaded += buffer.byteLength;\n",
              "            progress.value = downloaded;\n",
              "          }\n",
              "        }\n",
              "      }\n",
              "      const blob = new Blob(buffers, {type: 'application/binary'});\n",
              "      const a = document.createElement('a');\n",
              "      a.href = window.URL.createObjectURL(blob);\n",
              "      a.download = filename;\n",
              "      div.appendChild(a);\n",
              "      a.click();\n",
              "      div.remove();\n",
              "    }\n",
              "  "
            ]
          },
          "metadata": {}
        },
        {
          "output_type": "display_data",
          "data": {
            "text/plain": [
              "<IPython.core.display.Javascript object>"
            ],
            "application/javascript": [
              "download(\"download_434fee84-fcd3-44be-8d80-1bc6901c48ba\", \"pre-processed.csv\", 5875)"
            ]
          },
          "metadata": {}
        }
      ]
    },
    {
      "cell_type": "code",
      "source": [
        "shape = data3.shape\n",
        "print(shape)\n"
      ],
      "metadata": {
        "colab": {
          "base_uri": "https://localhost:8080/"
        },
        "id": "1wNrLCVWCCPK",
        "outputId": "e6dc681c-a209-4ad3-c3b2-bcf1b1b9a5b9"
      },
      "execution_count": 196,
      "outputs": [
        {
          "output_type": "stream",
          "name": "stdout",
          "text": [
            "(144, 8)\n"
          ]
        }
      ]
    },
    {
      "cell_type": "code",
      "source": [
        "data3.head()"
      ],
      "metadata": {
        "colab": {
          "base_uri": "https://localhost:8080/",
          "height": 206
        },
        "id": "ucxQd4HxD-oU",
        "outputId": "12c853fd-5c90-4e17-834f-be4f58ddeee3"
      },
      "execution_count": 197,
      "outputs": [
        {
          "output_type": "execute_result",
          "data": {
            "text/plain": [
              "    Survived  Pclass     Sex   Age  SibSp  Parch      Fare Embarked\n",
              "1          1       1  female  38.0      1      0  0.139136        C\n",
              "3          1       1  female  35.0      1      0  0.103644        S\n",
              "6          0       1    male  54.0      0      0  0.101229        S\n",
              "10         1       3  female   4.0      1      1  0.032596        S\n",
              "11         1       1  female  58.0      0      0  0.051822        S"
            ],
            "text/html": [
              "\n",
              "  <div id=\"df-e21ef4a1-7735-450c-8836-aee7a6d268e2\">\n",
              "    <div class=\"colab-df-container\">\n",
              "      <div>\n",
              "<style scoped>\n",
              "    .dataframe tbody tr th:only-of-type {\n",
              "        vertical-align: middle;\n",
              "    }\n",
              "\n",
              "    .dataframe tbody tr th {\n",
              "        vertical-align: top;\n",
              "    }\n",
              "\n",
              "    .dataframe thead th {\n",
              "        text-align: right;\n",
              "    }\n",
              "</style>\n",
              "<table border=\"1\" class=\"dataframe\">\n",
              "  <thead>\n",
              "    <tr style=\"text-align: right;\">\n",
              "      <th></th>\n",
              "      <th>Survived</th>\n",
              "      <th>Pclass</th>\n",
              "      <th>Sex</th>\n",
              "      <th>Age</th>\n",
              "      <th>SibSp</th>\n",
              "      <th>Parch</th>\n",
              "      <th>Fare</th>\n",
              "      <th>Embarked</th>\n",
              "    </tr>\n",
              "  </thead>\n",
              "  <tbody>\n",
              "    <tr>\n",
              "      <th>1</th>\n",
              "      <td>1</td>\n",
              "      <td>1</td>\n",
              "      <td>female</td>\n",
              "      <td>38.0</td>\n",
              "      <td>1</td>\n",
              "      <td>0</td>\n",
              "      <td>0.139136</td>\n",
              "      <td>C</td>\n",
              "    </tr>\n",
              "    <tr>\n",
              "      <th>3</th>\n",
              "      <td>1</td>\n",
              "      <td>1</td>\n",
              "      <td>female</td>\n",
              "      <td>35.0</td>\n",
              "      <td>1</td>\n",
              "      <td>0</td>\n",
              "      <td>0.103644</td>\n",
              "      <td>S</td>\n",
              "    </tr>\n",
              "    <tr>\n",
              "      <th>6</th>\n",
              "      <td>0</td>\n",
              "      <td>1</td>\n",
              "      <td>male</td>\n",
              "      <td>54.0</td>\n",
              "      <td>0</td>\n",
              "      <td>0</td>\n",
              "      <td>0.101229</td>\n",
              "      <td>S</td>\n",
              "    </tr>\n",
              "    <tr>\n",
              "      <th>10</th>\n",
              "      <td>1</td>\n",
              "      <td>3</td>\n",
              "      <td>female</td>\n",
              "      <td>4.0</td>\n",
              "      <td>1</td>\n",
              "      <td>1</td>\n",
              "      <td>0.032596</td>\n",
              "      <td>S</td>\n",
              "    </tr>\n",
              "    <tr>\n",
              "      <th>11</th>\n",
              "      <td>1</td>\n",
              "      <td>1</td>\n",
              "      <td>female</td>\n",
              "      <td>58.0</td>\n",
              "      <td>0</td>\n",
              "      <td>0</td>\n",
              "      <td>0.051822</td>\n",
              "      <td>S</td>\n",
              "    </tr>\n",
              "  </tbody>\n",
              "</table>\n",
              "</div>\n",
              "      <button class=\"colab-df-convert\" onclick=\"convertToInteractive('df-e21ef4a1-7735-450c-8836-aee7a6d268e2')\"\n",
              "              title=\"Convert this dataframe to an interactive table.\"\n",
              "              style=\"display:none;\">\n",
              "        \n",
              "  <svg xmlns=\"http://www.w3.org/2000/svg\" height=\"24px\"viewBox=\"0 0 24 24\"\n",
              "       width=\"24px\">\n",
              "    <path d=\"M0 0h24v24H0V0z\" fill=\"none\"/>\n",
              "    <path d=\"M18.56 5.44l.94 2.06.94-2.06 2.06-.94-2.06-.94-.94-2.06-.94 2.06-2.06.94zm-11 1L8.5 8.5l.94-2.06 2.06-.94-2.06-.94L8.5 2.5l-.94 2.06-2.06.94zm10 10l.94 2.06.94-2.06 2.06-.94-2.06-.94-.94-2.06-.94 2.06-2.06.94z\"/><path d=\"M17.41 7.96l-1.37-1.37c-.4-.4-.92-.59-1.43-.59-.52 0-1.04.2-1.43.59L10.3 9.45l-7.72 7.72c-.78.78-.78 2.05 0 2.83L4 21.41c.39.39.9.59 1.41.59.51 0 1.02-.2 1.41-.59l7.78-7.78 2.81-2.81c.8-.78.8-2.07 0-2.86zM5.41 20L4 18.59l7.72-7.72 1.47 1.35L5.41 20z\"/>\n",
              "  </svg>\n",
              "      </button>\n",
              "      \n",
              "  <style>\n",
              "    .colab-df-container {\n",
              "      display:flex;\n",
              "      flex-wrap:wrap;\n",
              "      gap: 12px;\n",
              "    }\n",
              "\n",
              "    .colab-df-convert {\n",
              "      background-color: #E8F0FE;\n",
              "      border: none;\n",
              "      border-radius: 50%;\n",
              "      cursor: pointer;\n",
              "      display: none;\n",
              "      fill: #1967D2;\n",
              "      height: 32px;\n",
              "      padding: 0 0 0 0;\n",
              "      width: 32px;\n",
              "    }\n",
              "\n",
              "    .colab-df-convert:hover {\n",
              "      background-color: #E2EBFA;\n",
              "      box-shadow: 0px 1px 2px rgba(60, 64, 67, 0.3), 0px 1px 3px 1px rgba(60, 64, 67, 0.15);\n",
              "      fill: #174EA6;\n",
              "    }\n",
              "\n",
              "    [theme=dark] .colab-df-convert {\n",
              "      background-color: #3B4455;\n",
              "      fill: #D2E3FC;\n",
              "    }\n",
              "\n",
              "    [theme=dark] .colab-df-convert:hover {\n",
              "      background-color: #434B5C;\n",
              "      box-shadow: 0px 1px 3px 1px rgba(0, 0, 0, 0.15);\n",
              "      filter: drop-shadow(0px 1px 2px rgba(0, 0, 0, 0.3));\n",
              "      fill: #FFFFFF;\n",
              "    }\n",
              "  </style>\n",
              "\n",
              "      <script>\n",
              "        const buttonEl =\n",
              "          document.querySelector('#df-e21ef4a1-7735-450c-8836-aee7a6d268e2 button.colab-df-convert');\n",
              "        buttonEl.style.display =\n",
              "          google.colab.kernel.accessAllowed ? 'block' : 'none';\n",
              "\n",
              "        async function convertToInteractive(key) {\n",
              "          const element = document.querySelector('#df-e21ef4a1-7735-450c-8836-aee7a6d268e2');\n",
              "          const dataTable =\n",
              "            await google.colab.kernel.invokeFunction('convertToInteractive',\n",
              "                                                     [key], {});\n",
              "          if (!dataTable) return;\n",
              "\n",
              "          const docLinkHtml = 'Like what you see? Visit the ' +\n",
              "            '<a target=\"_blank\" href=https://colab.research.google.com/notebooks/data_table.ipynb>data table notebook</a>'\n",
              "            + ' to learn more about interactive tables.';\n",
              "          element.innerHTML = '';\n",
              "          dataTable['output_type'] = 'display_data';\n",
              "          await google.colab.output.renderOutput(dataTable, element);\n",
              "          const docLink = document.createElement('div');\n",
              "          docLink.innerHTML = docLinkHtml;\n",
              "          element.appendChild(docLink);\n",
              "        }\n",
              "      </script>\n",
              "    </div>\n",
              "  </div>\n",
              "  "
            ]
          },
          "metadata": {},
          "execution_count": 197
        }
      ]
    },
    {
      "cell_type": "markdown",
      "source": [
        "# **2.Rule-Based Classification**"
      ],
      "metadata": {
        "id": "JeXBQU7rbkHG"
      }
    },
    {
      "cell_type": "code",
      "source": [
        "import pandas as pd\n",
        "\n",
        "# Assuming your dataset is stored in a DataFrame called 'dataset'\n",
        "# You can replace 'dataset' with the actual variable name of your dataset\n",
        "\n",
        "# Create a new column to store the classification result\n",
        "data3['classification'] = ''\n",
        "\n",
        "# Apply the rules to classify each data point\n",
        "for index, row in data3.iterrows():\n",
        "    # Get the values from the row\n",
        "    value1 = row['Survived']\n",
        "    value2 = row['Pclass']\n",
        "    value3 = row['Sex']\n",
        "    value4 = row['Age']\n",
        "    value5= row['SibSp']\n",
        "    value6 = row['Parch']\n",
        "    value7 = row['Fare']\n",
        "    value8 = row['Embarked']\n",
        "\n",
        "    # Apply the rules\n",
        "    if value1 == 1 and value3 == \"female\":\n",
        "        data3.at[index, 'classification'] = 'female survided'\n",
        "    elif value1 == 1 and value3 == \"male\" :\n",
        "        data3.at[index, 'classification'] = 'male survided'\n",
        "    elif value1 > 50 and value1 == 1 and value3 == \"female\" :\n",
        "        data3.at[index, 'classification'] = 'older women survival'\n",
        "    elif value1 < 50 and value1 == 1 and value3 == \"female\" :\n",
        "         data3.at[index, 'classification'] = ' younger  women survival'\n",
        "    elif value1 > 50 and value1 == 1 and value3 == \"male\" :\n",
        "        data3.at[index, 'classification'] = 'older men survival'\n",
        "    elif value1 < 50 and value1 == 1 and value3 == \"male\" :\n",
        "         data3.at[index, 'classification'] = ' younger men survival'\n",
        "    elif value1 > 50 and value1 == 0 and value3 == \"female\" :\n",
        "        data3.at[index, 'classification'] = 'older not women survival'\n",
        "    elif value1 < 50 and value1 == 0 and value3 == \"female\" :\n",
        "         data3.at[index, 'classification'] = ' younger not women survival'\n",
        "    elif value1 > 50 and value1 == 0 and value3 == \"male\" :\n",
        "        data3.at[index, 'classification'] = 'older men not survival'\n",
        "    elif value1 < 50 and value1 == 0 and value3 == \"male\" :\n",
        "         data3.at[index, 'classification'] = ' younger men  not survival'\n",
        "    elif value8  == \"S\" and value6 == 0 :\n",
        "        data3.at[index, 'classification'] = 'people with no family boarded'\n",
        "    elif value8  == \"S\" and value6 == 1 :\n",
        "        data3.at[index, 'classification'] = 'people with 1 family  member boarded'\n",
        "    elif value8  == \"S\" and value6 == 2 :\n",
        "        data3.at[index, 'classification'] = 'people with 2 family  member boarded'\n",
        "    else:\n",
        "        data3.at[index, 'classification'] = 'Unknown'\n",
        "\n",
        "# Display the updated dataset with the classification results\n",
        "print(data3)"
      ],
      "metadata": {
        "colab": {
          "base_uri": "https://localhost:8080/"
        },
        "id": "9CkX_gytLE6e",
        "outputId": "d67fa93a-d3e9-43ce-d554-f579da451e52"
      },
      "execution_count": 202,
      "outputs": [
        {
          "output_type": "stream",
          "name": "stdout",
          "text": [
            "     Survived  Pclass     Sex   Age  SibSp  Parch      Fare Embarked  \\\n",
            "1           1       1  female  38.0      1      0  0.139136        C   \n",
            "3           1       1  female  35.0      1      0  0.103644        S   \n",
            "6           0       1    male  54.0      0      0  0.101229        S   \n",
            "10          1       3  female   4.0      1      1  0.032596        S   \n",
            "11          1       1  female  58.0      0      0  0.051822        S   \n",
            "..        ...     ...     ...   ...    ...    ...       ...      ...   \n",
            "867         0       1    male  31.0      0      0  0.098561        S   \n",
            "872         0       1    male  33.0      0      0  0.009759        S   \n",
            "879         1       1  female  56.0      0      1  0.162314        C   \n",
            "887         1       1  female  19.0      0      0  0.058556        S   \n",
            "889         1       1    male  26.0      0      0  0.058556        C   \n",
            "\n",
            "                 classification  \n",
            "1               female survided  \n",
            "3               female survided  \n",
            "6     younger men  not survival  \n",
            "10              female survided  \n",
            "11              female survided  \n",
            "..                          ...  \n",
            "867   younger men  not survival  \n",
            "872   younger men  not survival  \n",
            "879             female survided  \n",
            "887             female survided  \n",
            "889               male survided  \n",
            "\n",
            "[144 rows x 9 columns]\n"
          ]
        },
        {
          "output_type": "stream",
          "name": "stderr",
          "text": [
            "<ipython-input-202-11075a705532>:7: SettingWithCopyWarning: \n",
            "A value is trying to be set on a copy of a slice from a DataFrame.\n",
            "Try using .loc[row_indexer,col_indexer] = value instead\n",
            "\n",
            "See the caveats in the documentation: https://pandas.pydata.org/pandas-docs/stable/user_guide/indexing.html#returning-a-view-versus-a-copy\n",
            "  data3['classification'] = ''\n"
          ]
        }
      ]
    },
    {
      "cell_type": "code",
      "source": [
        "import pandas as pd\n",
        "\n",
        "# Assuming your dataset is stored in a DataFrame called 'dataset'\n",
        "# You can replace 'dataset' with the actual variable name of your dataset\n",
        "\n",
        "# Create a new column to store the classification result\n",
        "data3['classification'] = ''\n",
        "\n",
        "# Apply the rules to classify each data point\n",
        "for index, row in data3.iterrows():\n",
        "    # Get the values from the row\n",
        "    value1 = row['Survived']\n",
        "    value2 = row['Pclass']\n",
        "    value3 = row['Sex']\n",
        "    value4 = row['Age']\n",
        "    value5= row['SibSp']\n",
        "    value6 = row['Parch']\n",
        "    value7 = row['Fare']\n",
        "    value8 = row['Embarked']\n",
        "\n",
        "    # Apply the rules\n",
        "    if value1 == 1 and value3 == \"female\":\n",
        "        data3.at[index, 'classification'] = 'female survided'\n",
        "    elif value1 == 1 and value3 == \"male\" :\n",
        "        data3.at[index, 'classification'] = 'male survided'\n",
        "    elif value1 > 50 and value1 == 1 and value3 == \"female\" :\n",
        "        data3.at[index, 'classification'] = 'older women survival'\n",
        "    elif value1 < 50 and value1 == 1 and value3 == \"female\" :\n",
        "         data3.at[index, 'classification'] = ' younger  women survival'\n",
        "    elif value1 > 50 and value1 == 1 and value3 == \"male\" :\n",
        "        data3.at[index, 'classification'] = 'older men survival'\n",
        "    elif value1 < 50 and value1 == 1 and value3 == \"male\" :\n",
        "         data3.at[index, 'classification'] = ' younger men survival'\n",
        "    elif value8  == \"S\" and value6 == 0 :\n",
        "        data3.at[index, 'classification'] = 'people with no family boarded'\n",
        "    elif value8  == \"S\" and value6 == 1 :\n",
        "        data3.at[index, 'classification'] = 'people with 1 family  member boarded'\n",
        "    elif value8  == \"S\" and value6 == 2 :\n",
        "        data3.at[index, 'classification'] = 'people with 2 family  member boarded'\n",
        "    else:\n",
        "        data3.at[index, 'classification'] = 'Unknown'\n",
        "\n",
        "# Display the updated dataset with the classification results\n",
        "print(data3)"
      ],
      "metadata": {
        "colab": {
          "base_uri": "https://localhost:8080/"
        },
        "id": "skGZ-XKlJtCo",
        "outputId": "10e22bfc-cf94-4d2f-b74d-e6b18e5295ca"
      },
      "execution_count": 200,
      "outputs": [
        {
          "output_type": "stream",
          "name": "stdout",
          "text": [
            "     Survived  Pclass     Sex   Age  SibSp  Parch      Fare Embarked  \\\n",
            "1           1       1  female  38.0      1      0  0.139136        C   \n",
            "3           1       1  female  35.0      1      0  0.103644        S   \n",
            "6           0       1    male  54.0      0      0  0.101229        S   \n",
            "10          1       3  female   4.0      1      1  0.032596        S   \n",
            "11          1       1  female  58.0      0      0  0.051822        S   \n",
            "..        ...     ...     ...   ...    ...    ...       ...      ...   \n",
            "867         0       1    male  31.0      0      0  0.098561        S   \n",
            "872         0       1    male  33.0      0      0  0.009759        S   \n",
            "879         1       1  female  56.0      0      1  0.162314        C   \n",
            "887         1       1  female  19.0      0      0  0.058556        S   \n",
            "889         1       1    male  26.0      0      0  0.058556        C   \n",
            "\n",
            "                    classification  \n",
            "1                  female survided  \n",
            "3                  female survided  \n",
            "6    people with no family boarded  \n",
            "10                 female survided  \n",
            "11                 female survided  \n",
            "..                             ...  \n",
            "867  people with no family boarded  \n",
            "872  people with no family boarded  \n",
            "879                female survided  \n",
            "887                female survided  \n",
            "889                  male survided  \n",
            "\n",
            "[144 rows x 9 columns]\n"
          ]
        },
        {
          "output_type": "stream",
          "name": "stderr",
          "text": [
            "<ipython-input-200-b2677fccec0d>:7: SettingWithCopyWarning: \n",
            "A value is trying to be set on a copy of a slice from a DataFrame.\n",
            "Try using .loc[row_indexer,col_indexer] = value instead\n",
            "\n",
            "See the caveats in the documentation: https://pandas.pydata.org/pandas-docs/stable/user_guide/indexing.html#returning-a-view-versus-a-copy\n",
            "  data3['classification'] = ''\n"
          ]
        }
      ]
    },
    {
      "cell_type": "code",
      "source": [
        "from google.colab import files\n",
        "# Convert the DataFrame to a CSV file\n",
        "data3.to_csv('Rule-based-classification.csv', index=False)\n",
        "\n",
        "# Download the CSV file\n",
        "files.download('Rule-based-classification.csv')"
      ],
      "metadata": {
        "colab": {
          "base_uri": "https://localhost:8080/",
          "height": 17
        },
        "outputId": "5e496eed-7101-4785-ec97-1b49c876943f",
        "id": "IYzcVRcIKAZQ"
      },
      "execution_count": 203,
      "outputs": [
        {
          "output_type": "display_data",
          "data": {
            "text/plain": [
              "<IPython.core.display.Javascript object>"
            ],
            "application/javascript": [
              "\n",
              "    async function download(id, filename, size) {\n",
              "      if (!google.colab.kernel.accessAllowed) {\n",
              "        return;\n",
              "      }\n",
              "      const div = document.createElement('div');\n",
              "      const label = document.createElement('label');\n",
              "      label.textContent = `Downloading \"${filename}\": `;\n",
              "      div.appendChild(label);\n",
              "      const progress = document.createElement('progress');\n",
              "      progress.max = size;\n",
              "      div.appendChild(progress);\n",
              "      document.body.appendChild(div);\n",
              "\n",
              "      const buffers = [];\n",
              "      let downloaded = 0;\n",
              "\n",
              "      const channel = await google.colab.kernel.comms.open(id);\n",
              "      // Send a message to notify the kernel that we're ready.\n",
              "      channel.send({})\n",
              "\n",
              "      for await (const message of channel.messages) {\n",
              "        // Send a message to notify the kernel that we're ready.\n",
              "        channel.send({})\n",
              "        if (message.buffers) {\n",
              "          for (const buffer of message.buffers) {\n",
              "            buffers.push(buffer);\n",
              "            downloaded += buffer.byteLength;\n",
              "            progress.value = downloaded;\n",
              "          }\n",
              "        }\n",
              "      }\n",
              "      const blob = new Blob(buffers, {type: 'application/binary'});\n",
              "      const a = document.createElement('a');\n",
              "      a.href = window.URL.createObjectURL(blob);\n",
              "      a.download = filename;\n",
              "      div.appendChild(a);\n",
              "      a.click();\n",
              "      div.remove();\n",
              "    }\n",
              "  "
            ]
          },
          "metadata": {}
        },
        {
          "output_type": "display_data",
          "data": {
            "text/plain": [
              "<IPython.core.display.Javascript object>"
            ],
            "application/javascript": [
              "download(\"download_21aea591-d70b-419c-b7ea-c48cf923795e\", \"Rule-based-classification.csv\", 8689)"
            ]
          },
          "metadata": {}
        }
      ]
    },
    {
      "cell_type": "code",
      "source": [
        "# Import the necessary libraries\n",
        "from sklearn.metrics import accuracy_score\n",
        "\n",
        "# Get the actual and predicted values\n",
        "actual = data3['Survived']\n",
        "predicted = data3['classification']\n",
        "\n",
        "# Calculate the accuracy\n",
        "accuracy = accuracy_score(actual, predicted)\n",
        "\n",
        "# Print the accuracy\n",
        "print('Accuracy:', accuracy)"
      ],
      "metadata": {
        "colab": {
          "base_uri": "https://localhost:8080/"
        },
        "id": "1VIgbqNZLq2Y",
        "outputId": "6288394c-a9f3-43a8-d997-318f0dae02a8"
      },
      "execution_count": 204,
      "outputs": [
        {
          "output_type": "stream",
          "name": "stdout",
          "text": [
            "Accuracy: 0.0\n"
          ]
        }
      ]
    },
    {
      "cell_type": "markdown",
      "source": [
        "# **3.Association Rules**"
      ],
      "metadata": {
        "id": "ULBPhJ4je6ol"
      }
    },
    {
      "cell_type": "code",
      "source": [
        "import pandas as pd\n",
        "from mlxtend.frequent_patterns import apriori\n",
        "from mlxtend.frequent_patterns import association_rules\n",
        "\n",
        "# Assuming your dataset is a list of lists called 'dataset'\n",
        "# You can replace 'dataset' with the actual variable name of your dataset\n",
        "\n",
        "# Convert the dataset into a DataFrame\n",
        "df = pd.DataFrame(data3)\n",
        "\n",
        "# Convert non-zero values to True and zero values to False\n",
        "df = df.astype(bool)\n",
        "\n",
        "# Apply Apriori algorithm to find frequent itemsets\n",
        "frequent_itemsets = apriori(df, min_support=0.1, use_colnames=True)\n",
        "\n",
        "# Generate association rules from frequent itemsets\n",
        "association_rules = association_rules(frequent_itemsets, metric=\"confidence\", min_threshold=0.5)\n",
        "\n",
        "# Display the association rules\n",
        "print(association_rules)\n"
      ],
      "metadata": {
        "colab": {
          "base_uri": "https://localhost:8080/"
        },
        "id": "DDm6z-h_PZnP",
        "outputId": "ffac85c3-18de-46c9-b327-80f046c3e789"
      },
      "execution_count": 225,
      "outputs": [
        {
          "output_type": "stream",
          "name": "stdout",
          "text": [
            "                  antecedents  \\\n",
            "0                    (Pclass)   \n",
            "1                  (Survived)   \n",
            "2                       (Sex)   \n",
            "3                  (Survived)   \n",
            "4                       (Age)   \n",
            "...                       ...   \n",
            "6045  (classification, Parch)   \n",
            "6046        (Embarked, Parch)   \n",
            "6047             (Parch, Age)   \n",
            "6048          (Parch, Pclass)   \n",
            "6049                  (Parch)   \n",
            "\n",
            "                                            consequents  antecedent support  \\\n",
            "0                                            (Survived)            1.000000   \n",
            "1                                              (Pclass)            0.645833   \n",
            "2                                            (Survived)            1.000000   \n",
            "3                                                 (Sex)            0.645833   \n",
            "4                                            (Survived)            1.000000   \n",
            "...                                                 ...                 ...   \n",
            "6045       (Sex, Fare, Survived, Embarked, Age, Pclass)            0.270833   \n",
            "6046  (Sex, Fare, Survived, classification, Age, Pcl...            0.270833   \n",
            "6047  (Sex, Fare, Survived, classification, Embarked...            0.270833   \n",
            "6048  (Sex, Fare, Survived, classification, Embarked...            0.270833   \n",
            "6049  (Sex, Fare, Survived, classification, Embarked...            0.270833   \n",
            "\n",
            "      consequent support   support  confidence     lift  leverage  conviction  \n",
            "0               0.645833  0.645833    0.645833  1.00000  0.000000    1.000000  \n",
            "1               1.000000  0.645833    1.000000  1.00000  0.000000         inf  \n",
            "2               0.645833  0.645833    0.645833  1.00000  0.000000    1.000000  \n",
            "3               1.000000  0.645833    1.000000  1.00000  0.000000         inf  \n",
            "4               0.645833  0.645833    0.645833  1.00000  0.000000    1.000000  \n",
            "...                  ...       ...         ...      ...       ...         ...  \n",
            "6045            0.645833  0.187500    0.692308  1.07196  0.012587    1.151042  \n",
            "6046            0.645833  0.187500    0.692308  1.07196  0.012587    1.151042  \n",
            "6047            0.645833  0.187500    0.692308  1.07196  0.012587    1.151042  \n",
            "6048            0.645833  0.187500    0.692308  1.07196  0.012587    1.151042  \n",
            "6049            0.645833  0.187500    0.692308  1.07196  0.012587    1.151042  \n",
            "\n",
            "[6050 rows x 9 columns]\n"
          ]
        }
      ]
    },
    {
      "cell_type": "code",
      "source": [
        "# Specify the file path and name for the CSV file\n",
        "output_file = 'association_rules.csv'\n",
        "\n",
        "# Save the association rules to a CSV file\n",
        "association_rules.to_csv(output_file, index=False)"
      ],
      "metadata": {
        "id": "08ZRxpa0QRjR"
      },
      "execution_count": 227,
      "outputs": []
    },
    {
      "cell_type": "code",
      "source": [
        "from google.colab import files\n",
        "\n",
        "\n",
        "# Download the CSV file\n",
        "files.download('association_rules.csv')\n",
        "\n"
      ],
      "metadata": {
        "colab": {
          "base_uri": "https://localhost:8080/",
          "height": 17
        },
        "outputId": "7f533e37-f948-4f73-c0d4-c794140496f4",
        "id": "uXLFy-Vb93QE"
      },
      "execution_count": 228,
      "outputs": [
        {
          "output_type": "display_data",
          "data": {
            "text/plain": [
              "<IPython.core.display.Javascript object>"
            ],
            "application/javascript": [
              "\n",
              "    async function download(id, filename, size) {\n",
              "      if (!google.colab.kernel.accessAllowed) {\n",
              "        return;\n",
              "      }\n",
              "      const div = document.createElement('div');\n",
              "      const label = document.createElement('label');\n",
              "      label.textContent = `Downloading \"${filename}\": `;\n",
              "      div.appendChild(label);\n",
              "      const progress = document.createElement('progress');\n",
              "      progress.max = size;\n",
              "      div.appendChild(progress);\n",
              "      document.body.appendChild(div);\n",
              "\n",
              "      const buffers = [];\n",
              "      let downloaded = 0;\n",
              "\n",
              "      const channel = await google.colab.kernel.comms.open(id);\n",
              "      // Send a message to notify the kernel that we're ready.\n",
              "      channel.send({})\n",
              "\n",
              "      for await (const message of channel.messages) {\n",
              "        // Send a message to notify the kernel that we're ready.\n",
              "        channel.send({})\n",
              "        if (message.buffers) {\n",
              "          for (const buffer of message.buffers) {\n",
              "            buffers.push(buffer);\n",
              "            downloaded += buffer.byteLength;\n",
              "            progress.value = downloaded;\n",
              "          }\n",
              "        }\n",
              "      }\n",
              "      const blob = new Blob(buffers, {type: 'application/binary'});\n",
              "      const a = document.createElement('a');\n",
              "      a.href = window.URL.createObjectURL(blob);\n",
              "      a.download = filename;\n",
              "      div.appendChild(a);\n",
              "      a.click();\n",
              "      div.remove();\n",
              "    }\n",
              "  "
            ]
          },
          "metadata": {}
        },
        {
          "output_type": "display_data",
          "data": {
            "text/plain": [
              "<IPython.core.display.Javascript object>"
            ],
            "application/javascript": [
              "download(\"download_f2b2864f-c80e-436c-a9d0-dec4ebca1868\", \"association_rules.csv\", 1024390)"
            ]
          },
          "metadata": {}
        }
      ]
    },
    {
      "cell_type": "code",
      "source": [
        "from mlxtend.preprocessing import TransactionEncoder\n",
        "from mlxtend.frequent_patterns import apriori, association_rules\n",
        "\n",
        "# Assuming your data is a DataFrame called 'df' with attribute names as columns\n",
        "# Extract the attribute names from the DataFrame\n",
        "attributes = data3.columns.tolist()\n",
        "\n",
        "# Convert the DataFrame into a list of transactions, where each transaction is a list of attribute names\n",
        "transactions = data3.values.tolist()\n",
        "\n",
        "# Convert your transactions data into a binary encoded format\n",
        "te = TransactionEncoder()\n",
        "te_array = te.fit_transform(transactions)\n",
        "df_encoded = pd.DataFrame(te_array, columns=te.columns_)\n",
        "\n",
        "# Apply the apriori algorithm to find frequent itemsets\n",
        "frequent_itemsets = apriori(df_encoded, min_support=0.2, use_colnames=True)\n",
        "\n",
        "# Generate association rules based on attribute names\n",
        "rules = association_rules(frequent_itemsets, metric=\"confidence\", min_threshold=0.7)\n",
        "\n",
        "# Print the resulting association rules\n",
        "print(rules)\n"
      ],
      "metadata": {
        "colab": {
          "base_uri": "https://localhost:8080/"
        },
        "id": "E0b2KABAnYF7",
        "outputId": "f8dbe057-b55c-4851-9901-fc179b1d9cea"
      },
      "execution_count": 178,
      "outputs": [
        {
          "output_type": "stream",
          "name": "stdout",
          "text": [
            "  antecedents consequents  antecedent support  consequent support   support  \\\n",
            "0       (0.0)       (1.0)            1.000000            0.895833  0.895833   \n",
            "1       (1.0)       (0.0)            0.895833            1.000000  0.895833   \n",
            "2       (2.0)       (0.0)            0.201389            1.000000  0.201389   \n",
            "\n",
            "   confidence  lift  leverage  conviction  \n",
            "0    0.895833   1.0       0.0         1.0  \n",
            "1    1.000000   1.0       0.0         inf  \n",
            "2    1.000000   1.0       0.0         inf  \n"
          ]
        }
      ]
    },
    {
      "cell_type": "markdown",
      "source": [
        "# **4.Generating Cluster**"
      ],
      "metadata": {
        "id": "wmQxT_HNnrpk"
      }
    },
    {
      "cell_type": "code",
      "source": [
        "import pandas as pd\n",
        "from sklearn.cluster import KMeans\n",
        "from google.colab import files\n",
        "\n",
        "# Assuming you have the necessary dataset for clustering\n",
        "\n",
        "# Read the association rules from the CSV file\n",
        "association_rules = pd.read_csv('/content/Rule-based-classification.csv')\n",
        "\n",
        "# Select the relevant features for clustering\n",
        "features = association_rules[['Survived', 'Pclass', 'Age', 'Parch']]  # Replace 'feature1', 'feature2', 'feature3' with actual feature names\n",
        "\n",
        "# Apply K-means clustering\n",
        "kmeans = KMeans(n_clusters=3)  # Replace 3 with the desired number of clusters\n",
        "clusters = kmeans.fit_predict(features)\n",
        "\n",
        "# Add the cluster labels to the association rules\n",
        "association_rules['cluster'] = clusters\n",
        "\n",
        "# Save the association rules with cluster labels to a new CSV file\n",
        "output_file = 'association_rules_with_clusters.csv'\n",
        "association_rules.to_csv(output_file, index=False)\n",
        "\n",
        "# Download the CSV file\n",
        "files.download(output_file)\n"
      ],
      "metadata": {
        "colab": {
          "base_uri": "https://localhost:8080/",
          "height": 73
        },
        "id": "b1LIuUjNW6Hk",
        "outputId": "662abd21-4d62-44d6-fbd4-984e576095e7"
      },
      "execution_count": 243,
      "outputs": [
        {
          "output_type": "stream",
          "name": "stderr",
          "text": [
            "/usr/local/lib/python3.10/dist-packages/sklearn/cluster/_kmeans.py:870: FutureWarning: The default value of `n_init` will change from 10 to 'auto' in 1.4. Set the value of `n_init` explicitly to suppress the warning\n",
            "  warnings.warn(\n"
          ]
        },
        {
          "output_type": "display_data",
          "data": {
            "text/plain": [
              "<IPython.core.display.Javascript object>"
            ],
            "application/javascript": [
              "\n",
              "    async function download(id, filename, size) {\n",
              "      if (!google.colab.kernel.accessAllowed) {\n",
              "        return;\n",
              "      }\n",
              "      const div = document.createElement('div');\n",
              "      const label = document.createElement('label');\n",
              "      label.textContent = `Downloading \"${filename}\": `;\n",
              "      div.appendChild(label);\n",
              "      const progress = document.createElement('progress');\n",
              "      progress.max = size;\n",
              "      div.appendChild(progress);\n",
              "      document.body.appendChild(div);\n",
              "\n",
              "      const buffers = [];\n",
              "      let downloaded = 0;\n",
              "\n",
              "      const channel = await google.colab.kernel.comms.open(id);\n",
              "      // Send a message to notify the kernel that we're ready.\n",
              "      channel.send({})\n",
              "\n",
              "      for await (const message of channel.messages) {\n",
              "        // Send a message to notify the kernel that we're ready.\n",
              "        channel.send({})\n",
              "        if (message.buffers) {\n",
              "          for (const buffer of message.buffers) {\n",
              "            buffers.push(buffer);\n",
              "            downloaded += buffer.byteLength;\n",
              "            progress.value = downloaded;\n",
              "          }\n",
              "        }\n",
              "      }\n",
              "      const blob = new Blob(buffers, {type: 'application/binary'});\n",
              "      const a = document.createElement('a');\n",
              "      a.href = window.URL.createObjectURL(blob);\n",
              "      a.download = filename;\n",
              "      div.appendChild(a);\n",
              "      a.click();\n",
              "      div.remove();\n",
              "    }\n",
              "  "
            ]
          },
          "metadata": {}
        },
        {
          "output_type": "display_data",
          "data": {
            "text/plain": [
              "<IPython.core.display.Javascript object>"
            ],
            "application/javascript": [
              "download(\"download_85b3bfa5-7ed8-41d7-bef0-894a8207d8c9\", \"association_rules_with_clusters.csv\", 8829)"
            ]
          },
          "metadata": {}
        }
      ]
    },
    {
      "cell_type": "markdown",
      "source": [
        "# 5.**Visualization**"
      ],
      "metadata": {
        "id": "pX6WG9H3Xje1"
      }
    },
    {
      "cell_type": "code",
      "source": [
        "import pandas as pd\n",
        "from sklearn.cluster import KMeans\n",
        "import matplotlib.pyplot as plt\n",
        "\n",
        "# Assuming you have the necessary dataset for clustering\n",
        "\n",
        "# Read the association rules from the CSV file\n",
        "association_rules = pd.read_csv('/content/Rule-based-classification.csv')\n",
        "\n",
        "# Select the relevant features for clustering\n",
        "features = association_rules[['Survived', 'Pclass', 'Age', 'Parch']]  # Replace 'feature1', 'feature2', 'feature3' with actual feature names\n",
        "\n",
        "# Apply K-means clustering\n",
        "kmeans = KMeans(n_clusters=3)  # Replace 3 with the desired number of clusters\n",
        "clusters = kmeans.fit_predict(features)\n",
        "\n",
        "# Add the cluster labels to the association rules\n",
        "association_rules['cluster'] = clusters\n",
        "\n",
        "# Visualize the clusters\n",
        "plt.scatter(association_rules['Age'], association_rules['Survived'], c=clusters)\n",
        "plt.xlabel('Age')\n",
        "plt.ylabel('Survived')\n",
        "plt.title('Cluster Visualization')\n",
        "plt.show()\n"
      ],
      "metadata": {
        "colab": {
          "base_uri": "https://localhost:8080/",
          "height": 528
        },
        "id": "lFsVurgSYvRb",
        "outputId": "df7bcaf6-736c-4181-b3df-aae90722dfe2"
      },
      "execution_count": 250,
      "outputs": [
        {
          "output_type": "stream",
          "name": "stderr",
          "text": [
            "/usr/local/lib/python3.10/dist-packages/sklearn/cluster/_kmeans.py:870: FutureWarning: The default value of `n_init` will change from 10 to 'auto' in 1.4. Set the value of `n_init` explicitly to suppress the warning\n",
            "  warnings.warn(\n"
          ]
        },
        {
          "output_type": "display_data",
          "data": {
            "text/plain": [
              "<Figure size 640x480 with 1 Axes>"
            ],
            "image/png": "[encoded data removed]"
          },
          "metadata": {}
        }
      ]
    },
    {
      "cell_type": "code",
      "source": [],
      "metadata": {
        "id": "i6QUBcYkY_Fs"
      },
      "execution_count": null,
      "outputs": []
    },
    {
      "cell_type": "code",
      "source": [
        "import pandas as pd\n",
        "from sklearn.cluster import KMeans\n",
        "import matplotlib.pyplot as plt\n",
        "\n",
        "# Assuming you have the necessary dataset for clustering\n",
        "\n",
        "# Read the association rules from the CSV file\n",
        "association_rules = pd.read_csv('/content/Rule-based-classification.csv')\n",
        "\n",
        "# Select the relevant features for clustering\n",
        "features = association_rules[['Survived', 'Pclass', 'Age', 'Parch']]  # Replace 'feature1', 'feature2', 'feature3' with actual feature names\n",
        "\n",
        "# Apply K-means clustering\n",
        "kmeans = KMeans(n_clusters=3)  # Replace 3 with the desired number of clusters\n",
        "clusters = kmeans.fit_predict(features)\n",
        "\n",
        "# Add the cluster labels to the association rules\n",
        "association_rules['cluster'] = clusters\n",
        "\n",
        "# Visualize the clusters\n",
        "plt.scatter(association_rules['Pclass'], association_rules['Survived'], c=clusters)\n",
        "plt.xlabel('Pclass')\n",
        "plt.ylabel('Survived')\n",
        "plt.title('Cluster Visualization')\n",
        "plt.show()\n"
      ],
      "metadata": {
        "colab": {
          "base_uri": "https://localhost:8080/",
          "height": 528
        },
        "outputId": "053af45b-7947-470a-c509-9ab968a635a6",
        "id": "AuJrMBjRZZes"
      },
      "execution_count": 252,
      "outputs": [
        {
          "output_type": "stream",
          "name": "stderr",
          "text": [
            "/usr/local/lib/python3.10/dist-packages/sklearn/cluster/_kmeans.py:870: FutureWarning: The default value of `n_init` will change from 10 to 'auto' in 1.4. Set the value of `n_init` explicitly to suppress the warning\n",
            "  warnings.warn(\n"
          ]
        },
        {
          "output_type": "display_data",
          "data": {
            "text/plain": [
              "<Figure size 640x480 with 1 Axes>"
            ],
            "image/png": "[encoded data removed]"
          },
          "metadata": {}
        }
      ]
    },
    {
      "cell_type": "code",
      "source": [
        "import pandas as pd\n",
        "from sklearn.cluster import KMeans\n",
        "import matplotlib.pyplot as plt\n",
        "\n",
        "# Assuming you have the necessary dataset for clustering\n",
        "\n",
        "# Read the association rules from the CSV file\n",
        "association_rules = pd.read_csv('/content/Rule-based-classification.csv')\n",
        "\n",
        "# Select the relevant features for clustering\n",
        "features = association_rules[['Survived', 'Pclass', 'Age', 'Parch']]  # Replace 'feature1', 'feature2', 'feature3' with actual feature names\n",
        "\n",
        "# Apply K-means clustering\n",
        "kmeans = KMeans(n_clusters=3)  # Replace 3 with the desired number of clusters\n",
        "clusters = kmeans.fit_predict(features)\n",
        "\n",
        "# Add the cluster labels to the association rules\n",
        "association_rules['cluster'] = clusters\n",
        "\n",
        "# Visualize the clusters\n",
        "plt.scatter(association_rules['Parch'], association_rules['Age'], c=clusters)\n",
        "plt.xlabel('Parch')\n",
        "plt.ylabel('Age')\n",
        "plt.title('Cluster Visualization')\n",
        "plt.show()\n"
      ],
      "metadata": {
        "colab": {
          "base_uri": "https://localhost:8080/",
          "height": 528
        },
        "outputId": "aef2dd6b-9c87-443e-936e-258d86811988",
        "id": "6-YroR8XZlcO"
      },
      "execution_count": 254,
      "outputs": [
        {
          "output_type": "stream",
          "name": "stderr",
          "text": [
            "/usr/local/lib/python3.10/dist-packages/sklearn/cluster/_kmeans.py:870: FutureWarning: The default value of `n_init` will change from 10 to 'auto' in 1.4. Set the value of `n_init` explicitly to suppress the warning\n",
            "  warnings.warn(\n"
          ]
        },
        {
          "output_type": "display_data",
          "data": {
            "text/plain": [
              "<Figure size 640x480 with 1 Axes>"
            ],
            "image/png": "[encoded data removed]"
          },
          "metadata": {}
        }
      ]
    }
  ]
}